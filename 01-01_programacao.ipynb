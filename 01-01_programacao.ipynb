{
 "cells": [
  {
   "cell_type": "code",
   "execution_count": 13,
   "metadata": {},
   "outputs": [],
   "source": [
    "import pandas as pd\n",
    "import os"
   ]
  },
  {
   "cell_type": "code",
   "execution_count": 14,
   "metadata": {},
   "outputs": [],
   "source": [
    "## GOOGLE DRIVE\n",
    "from google.oauth2 import service_account\n",
    "from googleapiclient.discovery import build\n",
    "\n",
    "#DOWNLOAD ARQUIVOS\n",
    "import io\n",
    "from googleapiclient.http import MediaIoBaseDownload"
   ]
  },
  {
   "cell_type": "code",
   "execution_count": 15,
   "metadata": {},
   "outputs": [],
   "source": [
    "scope = [\"https://spreadsheets.google.com/feeds\",'https://www.googleapis.com/auth/spreadsheets',\n",
    "         \"https://www.googleapis.com/auth/drive.file\",\"https://www.googleapis.com/auth/drive\"]\n",
    "\n",
    "credentials = service_account.Credentials.from_service_account_file(\n",
    "    r'E:\\Documentos\\python\\.gcredentials\\conectar-integracao\\conectar-integracao-4748610d1d6e.json', scopes=scope)\n",
    "\n",
    "service = build('drive', 'v3', credentials=credentials)\n",
    "\n",
    "#Listar aquivos na Pasta\n",
    "topFolderId = '1hMXHfkW9AOg4WFEXYLdpgyIiNFs3NCXQ' \n",
    "\n",
    "items = []\n",
    "pageToken = \"\"\n",
    "while pageToken is not None:\n",
    "    response = service.files().list(q=\"'\" + topFolderId + \"' in parents\", pageSize=1000, pageToken=pageToken, fields=\"nextPageToken, files(id, name)\").execute()\n",
    "    items.extend(response.get('files', []))\n",
    "    pageToken = response.get('nextPageToken')"
   ]
  },
  {
   "cell_type": "code",
   "execution_count": 16,
   "metadata": {},
   "outputs": [
    {
     "data": {
      "text/plain": [
       "[{'id': '14fw_Hd4KAlMlvs-MsXPJP-2CCjkSiwqL',\n",
       "  'name': '3165008 - São Tiago MG.xlsx'},\n",
       " {'id': '15wl9I4ozCI4iGKyaprq2mky9SQ3_nbVK',\n",
       "  'name': '3303906 - Petrópolis RJ.xlsx'},\n",
       " {'id': '1XQ49-nq3zRSEvNXLt8YXbhCj1Klgbw9B',\n",
       "  'name': '4106902 - Curitiba PR.xlsx'},\n",
       " {'id': '1KKJnh-WiIJr1-e8ZeD3w_C-tdP_y0bKF',\n",
       "  'name': '4121208 - Quitandinha PR.xlsx'},\n",
       " {'id': '12vmNRjDX24q0hwA2WNU9GB19IQKREXqD',\n",
       "  'name': '2111300 - São Luís MA.xlsx'},\n",
       " {'id': '1LGk1eb_gRnoTlK7opXUu63gXFaY62r_2',\n",
       "  'name': '3120201 - Cristais MG.xlsx'},\n",
       " {'id': '1zWcd5ru9gJp1EvRTvcMRm1kC3_VQcwSK',\n",
       "  'name': '4113304 - Laranjeiras do Sul PR.xlsx'},\n",
       " {'id': '1Y3dAjeqc0R9EV_Ps8FVbfmfV83P3OS8H',\n",
       "  'name': '3501905 - Amparo SP.xlsx'},\n",
       " {'id': '1SMq8vboeygg1lReqPs4XQWy5gaDpEvcL',\n",
       "  'name': '2604106 - Caruaru PE.xlsx'},\n",
       " {'id': '1molLmiS6oAJAH-QHfXPpVwTTofl32Ggi',\n",
       "  'name': '2921005 - Mata de São João BA.xlsx'},\n",
       " {'id': '1YaAMnzRVEjEEgFIVD9YynF_54_bcTWHC',\n",
       "  'name': '4112603 - Jardim Olinda PR.xlsx'},\n",
       " {'id': '1t2sRNVbfBSVsswtgu0Nzft09Lk_WgpOs',\n",
       "  'name': '4109401 - Guarapuava PR.xlsx'},\n",
       " {'id': '1WxmRsXe27W38RqsD67hfh7h-z5yK_vHn',\n",
       "  'name': '5203906 - Buriti Alegre GO.xlsx'},\n",
       " {'id': '1l2YGpd8-9e3tS0Q7DbygrvWrSDkwPG7y',\n",
       "  'name': '3532207 - Narandiba SP.xlsx'},\n",
       " {'id': '1qRtYWxZfcNVHdVbrGYmvuNQsyVI0E4xB',\n",
       "  'name': '3111200 - Campo Belo MG.xlsx'},\n",
       " {'id': '1skuIubMqq_Xsbs4VCjwXwZMmc6gKILBF',\n",
       "  'name': '3500303 - Aguaí SP.xlsx'},\n",
       " {'id': '1lyMIwKcTFCY7aeXWM7psTUejC4Q4pxbP',\n",
       "  'name': '3543402 - Ribeirão Preto SP.xlsx'},\n",
       " {'id': '175RWV8MlvI3oCfYfZJwwoW2BzlFa6L_j',\n",
       "  'name': '4109609 - Guaratuba PR.xlsx'},\n",
       " {'id': '1ePewPs7aCpzdemE_E85tZuhG-cBictcj',\n",
       "  'name': '4205407 - Florianópolis SC.xlsx'},\n",
       " {'id': '1acI6iy833d26XxUm_8v_7b8clenufEWO',\n",
       "  'name': '3156908 - Sacramento MG.xls.xlsx'},\n",
       " {'id': '1BDw6wjL0cxEKSZpnulyvzQ2-9f5xI0SH',\n",
       "  'name': '4218707 - Tubarão SC.xlsx'}]"
      ]
     },
     "execution_count": 16,
     "metadata": {},
     "output_type": "execute_result"
    }
   ],
   "source": [
    "items"
   ]
  },
  {
   "cell_type": "code",
   "execution_count": 17,
   "metadata": {},
   "outputs": [],
   "source": [
    "#DF com o ID, Nome do Arquivo e COD MUN\n",
    "file_id = []\n",
    "nome = []\n",
    "\n",
    "for f in range(0, len(items)):\n",
    "    file_id.append(items[f].get('id'))\n",
    "    nome.append(items[f].get('name'))\n",
    "\n",
    "\n",
    "arquivo = pd.DataFrame(list(zip(file_id, nome)), columns=['File ID', 'Nome'])\n",
    "arquivo['COD MUN'] = arquivo['Nome'].str.split('-', expand=True)[0]"
   ]
  },
  {
   "cell_type": "code",
   "execution_count": 18,
   "metadata": {},
   "outputs": [],
   "source": [
    "def baixar_arquivo(file_id, nome):\n",
    "    request = service.files().get_media(fileId=file_id)\n",
    "    fh = io.FileIO(r'E:\\Documentos\\python\\fluxo_pedidos\\programacao\\{0}'.format(nome), 'wb')\n",
    "    downloader = MediaIoBaseDownload(fh, request)\n",
    "    done = False\n",
    "    while done is False:\n",
    "        status, done = downloader.next_chunk()\n",
    "        #print(\"Download %d%%.\" % int(status.progress() * 100))\n",
    "        print(nome)"
   ]
  },
  {
   "cell_type": "code",
   "execution_count": 19,
   "metadata": {},
   "outputs": [
    {
     "name": "stdout",
     "output_type": "stream",
     "text": [
      "Rodando script 01_programacao\n",
      "3165008 - São Tiago MG.xlsx\n",
      "3303906 - Petrópolis RJ.xlsx\n",
      "4106902 - Curitiba PR.xlsx\n",
      "4121208 - Quitandinha PR.xlsx\n",
      "2111300 - São Luís MA.xlsx\n",
      "3120201 - Cristais MG.xlsx\n",
      "4113304 - Laranjeiras do Sul PR.xlsx\n",
      "3501905 - Amparo SP.xlsx\n",
      "2604106 - Caruaru PE.xlsx\n",
      "2921005 - Mata de São João BA.xlsx\n",
      "4112603 - Jardim Olinda PR.xlsx\n",
      "4109401 - Guarapuava PR.xlsx\n",
      "5203906 - Buriti Alegre GO.xlsx\n",
      "3532207 - Narandiba SP.xlsx\n",
      "3111200 - Campo Belo MG.xlsx\n",
      "3500303 - Aguaí SP.xlsx\n",
      "3543402 - Ribeirão Preto SP.xlsx\n",
      "4109609 - Guaratuba PR.xlsx\n",
      "4205407 - Florianópolis SC.xlsx\n",
      "3156908 - Sacramento MG.xls.xlsx\n",
      "4218707 - Tubarão SC.xlsx\n"
     ]
    }
   ],
   "source": [
    "#Baixar os arquivos na pasta\n",
    "print('Rodando script 01_programacao')\n",
    "for index, row in arquivo.iterrows():\n",
    "    file_id = row['File ID']\n",
    "    nome = row['Nome']\n",
    "    baixar_arquivo(file_id, nome)"
   ]
  },
  {
   "cell_type": "code",
   "execution_count": 20,
   "metadata": {},
   "outputs": [],
   "source": [
    "def abrir_arquivo(nome_arquivo):\n",
    "    COD_MUN = nome_arquivo[47:54]\n",
    "    \n",
    "    base = pd.read_excel(nome_arquivo, usecols='B:O', skiprows=6, nrows=8 )\n",
    "    \n",
    "    base = base.iloc[:,[0,11,12]]\n",
    "    base.loc[:,'COD MUN'] = COD_MUN\n",
    "    base_mun = base.melt(id_vars=['Nº', 'COD MUN'], var_name='COTA', value_name='QUANTIDADE')\n",
    "    base_mun['COTA'] = base_mun['COTA'].str.replace('QUANT. COTA ', \"\")\n",
    "    return base_mun"
   ]
  },
  {
   "cell_type": "code",
   "execution_count": 21,
   "metadata": {},
   "outputs": [],
   "source": [
    "# Listar arquivos do diretorio, abrir o arquivo e consolidar em um DF\n",
    "diretorio = r'E:\\Documentos\\python\\fluxo_pedidos\\programacao'\n",
    "\n",
    "base_aux = pd.DataFrame()\n",
    "\n",
    "for arquivo in os.listdir(diretorio):\n",
    "    filename = os.fsdecode(arquivo)\n",
    "    nome_arquivo = diretorio + '\\\\' + filename\n",
    "    \n",
    "    resultado = abrir_arquivo(nome_arquivo)\n",
    "        \n",
    "    base_aux = pd.concat([base_aux, resultado])\n",
    "\n",
    "base_aux['COD MUN'] = base_aux['COD MUN'].astype(str)\n",
    "base_aux['ETAPA'] = 'Programação'"
   ]
  },
  {
   "cell_type": "code",
   "execution_count": 22,
   "metadata": {},
   "outputs": [],
   "source": [
    "base_aux = base_aux[base_aux['QUANTIDADE'] > 0]"
   ]
  },
  {
   "cell_type": "code",
   "execution_count": 23,
   "metadata": {},
   "outputs": [
    {
     "data": {
      "text/html": [
       "<div>\n",
       "<style scoped>\n",
       "    .dataframe tbody tr th:only-of-type {\n",
       "        vertical-align: middle;\n",
       "    }\n",
       "\n",
       "    .dataframe tbody tr th {\n",
       "        vertical-align: top;\n",
       "    }\n",
       "\n",
       "    .dataframe thead th {\n",
       "        text-align: right;\n",
       "    }\n",
       "</style>\n",
       "<table border=\"1\" class=\"dataframe\">\n",
       "  <thead>\n",
       "    <tr style=\"text-align: right;\">\n",
       "      <th></th>\n",
       "      <th>Nº</th>\n",
       "      <th>COD MUN</th>\n",
       "      <th>COTA</th>\n",
       "      <th>QUANTIDADE</th>\n",
       "      <th>ETAPA</th>\n",
       "    </tr>\n",
       "  </thead>\n",
       "  <tbody>\n",
       "    <tr>\n",
       "      <th>0</th>\n",
       "      <td>1</td>\n",
       "      <td>2111300</td>\n",
       "      <td>AMPLIADA</td>\n",
       "      <td>202500.0</td>\n",
       "      <td>Programação</td>\n",
       "    </tr>\n",
       "    <tr>\n",
       "      <th>1</th>\n",
       "      <td>2</td>\n",
       "      <td>2111300</td>\n",
       "      <td>AMPLIADA</td>\n",
       "      <td>405000.0</td>\n",
       "      <td>Programação</td>\n",
       "    </tr>\n",
       "    <tr>\n",
       "      <th>2</th>\n",
       "      <td>3</td>\n",
       "      <td>2111300</td>\n",
       "      <td>AMPLIADA</td>\n",
       "      <td>405000.0</td>\n",
       "      <td>Programação</td>\n",
       "    </tr>\n",
       "    <tr>\n",
       "      <th>3</th>\n",
       "      <td>4</td>\n",
       "      <td>2111300</td>\n",
       "      <td>AMPLIADA</td>\n",
       "      <td>112500.0</td>\n",
       "      <td>Programação</td>\n",
       "    </tr>\n",
       "    <tr>\n",
       "      <th>4</th>\n",
       "      <td>5</td>\n",
       "      <td>2111300</td>\n",
       "      <td>AMPLIADA</td>\n",
       "      <td>24750.0</td>\n",
       "      <td>Programação</td>\n",
       "    </tr>\n",
       "    <tr>\n",
       "      <th>...</th>\n",
       "      <td>...</td>\n",
       "      <td>...</td>\n",
       "      <td>...</td>\n",
       "      <td>...</td>\n",
       "      <td>...</td>\n",
       "    </tr>\n",
       "    <tr>\n",
       "      <th>11</th>\n",
       "      <td>4</td>\n",
       "      <td>5203906</td>\n",
       "      <td>RESERVADA</td>\n",
       "      <td>600.0</td>\n",
       "      <td>Programação</td>\n",
       "    </tr>\n",
       "    <tr>\n",
       "      <th>12</th>\n",
       "      <td>5</td>\n",
       "      <td>5203906</td>\n",
       "      <td>RESERVADA</td>\n",
       "      <td>180.0</td>\n",
       "      <td>Programação</td>\n",
       "    </tr>\n",
       "    <tr>\n",
       "      <th>13</th>\n",
       "      <td>6</td>\n",
       "      <td>5203906</td>\n",
       "      <td>RESERVADA</td>\n",
       "      <td>180.0</td>\n",
       "      <td>Programação</td>\n",
       "    </tr>\n",
       "    <tr>\n",
       "      <th>14</th>\n",
       "      <td>7</td>\n",
       "      <td>5203906</td>\n",
       "      <td>RESERVADA</td>\n",
       "      <td>60.0</td>\n",
       "      <td>Programação</td>\n",
       "    </tr>\n",
       "    <tr>\n",
       "      <th>15</th>\n",
       "      <td>8</td>\n",
       "      <td>5203906</td>\n",
       "      <td>RESERVADA</td>\n",
       "      <td>90.0</td>\n",
       "      <td>Programação</td>\n",
       "    </tr>\n",
       "  </tbody>\n",
       "</table>\n",
       "<p>253 rows × 5 columns</p>\n",
       "</div>"
      ],
      "text/plain": [
       "    Nº  COD MUN       COTA  QUANTIDADE        ETAPA\n",
       "0    1  2111300   AMPLIADA    202500.0  Programação\n",
       "1    2  2111300   AMPLIADA    405000.0  Programação\n",
       "2    3  2111300   AMPLIADA    405000.0  Programação\n",
       "3    4  2111300   AMPLIADA    112500.0  Programação\n",
       "4    5  2111300   AMPLIADA     24750.0  Programação\n",
       "..  ..      ...        ...         ...          ...\n",
       "11   4  5203906  RESERVADA       600.0  Programação\n",
       "12   5  5203906  RESERVADA       180.0  Programação\n",
       "13   6  5203906  RESERVADA       180.0  Programação\n",
       "14   7  5203906  RESERVADA        60.0  Programação\n",
       "15   8  5203906  RESERVADA        90.0  Programação\n",
       "\n",
       "[253 rows x 5 columns]"
      ]
     },
     "execution_count": 23,
     "metadata": {},
     "output_type": "execute_result"
    }
   ],
   "source": [
    "base_aux"
   ]
  },
  {
   "cell_type": "code",
   "execution_count": 24,
   "metadata": {},
   "outputs": [],
   "source": [
    "base_aux.to_excel(r'E:\\Documentos\\python\\fluxo_pedidos\\bases\\base_programacao.xlsx', index=False)"
   ]
  },
  {
   "cell_type": "code",
   "execution_count": null,
   "metadata": {},
   "outputs": [],
   "source": []
  }
 ],
 "metadata": {
  "kernelspec": {
   "display_name": "Python 3",
   "language": "python",
   "name": "python3"
  },
  "language_info": {
   "codemirror_mode": {
    "name": "ipython",
    "version": 3
   },
   "file_extension": ".py",
   "mimetype": "text/x-python",
   "name": "python",
   "nbconvert_exporter": "python",
   "pygments_lexer": "ipython3",
   "version": "3.8.5"
  }
 },
 "nbformat": 4,
 "nbformat_minor": 4
}
